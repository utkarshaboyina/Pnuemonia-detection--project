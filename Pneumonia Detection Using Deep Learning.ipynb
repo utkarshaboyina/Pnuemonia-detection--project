{
 "cells": [
  {
   "cell_type": "code",
   "execution_count": 1,
   "id": "36bb63cd-3fa1-4826-9fce-df3183a4b562",
   "metadata": {},
   "outputs": [],
   "source": [
    "import zipfile\n",
    "z = zipfile.ZipFile(\"archive.zip\")\n",
    "z.extractall()"
   ]
  },
  {
   "cell_type": "code",
   "execution_count": null,
   "id": "4a6c6da8-6d43-48e3-be41-f215e48de6dc",
   "metadata": {},
   "outputs": [],
   "source": [
    "import os, shutil\n",
    "import random\n",
    "import numpy as np\n",
    "import pandas as pd\n",
    "import cv2\n",
    "import skimage\n",
    "import matplotlib.pyplot as plt\n",
    "import skimage.segmentation\n",
    "import seaborn as sns\n",
    "%matplotlib inline\n",
    "plt.style.use('ggplot')"
   ]
  },
  {
   "cell_type": "code",
   "execution_count": 1,
   "id": "d7a4fba4-151d-42f5-a4a7-8bdaaeb6de3a",
   "metadata": {},
   "outputs": [],
   "source": [
    "import numpy as np\n",
    "import cv2\n",
    "import os\n",
    "\n",
    "labels = ['PNEUMONIA', 'NORMAL']\n",
    "img_size = 128\n",
    "\n",
    "def get_data(data_dir):\n",
    "    data = []\n",
    "    for label in labels:\n",
    "        path = os.path.join(data_dir, label)\n",
    "        class_num = labels.index(label)\n",
    "        for img in os.listdir(path):\n",
    "            try:\n",
    "                img_arr = cv2.imread(os.path.join(path, img), cv2.IMREAD_GRAYSCALE)\n",
    "                resized_arr = cv2.resize(img_arr, (img_size, img_size))\n",
    "                data.append([resized_arr, class_num])\n",
    "            except Exception as e:\n",
    "                print(f\"Error processing {os.path.join(path, img)}: {e}\")\n",
    "    return np.array(data)\n"
   ]
  },
  {
   "cell_type": "code",
   "execution_count": 4,
   "id": "f9fd741b-361b-4807-8ae8-2c1d76857530",
   "metadata": {},
   "outputs": [
    {
     "ename": "ValueError",
     "evalue": "setting an array element with a sequence. The requested array has an inhomogeneous shape after 2 dimensions. The detected shape was (5216, 2) + inhomogeneous part.",
     "output_type": "error",
     "traceback": [
      "\u001b[1;31m---------------------------------------------------------------------------\u001b[0m",
      "\u001b[1;31mValueError\u001b[0m                                Traceback (most recent call last)",
      "Cell \u001b[1;32mIn[4], line 1\u001b[0m\n\u001b[1;32m----> 1\u001b[0m train \u001b[38;5;241m=\u001b[39m get_data(\u001b[38;5;124m\"\u001b[39m\u001b[38;5;124mchest_xray/chest_xray/train\u001b[39m\u001b[38;5;124m\"\u001b[39m)\n",
      "Cell \u001b[1;32mIn[3], line 22\u001b[0m, in \u001b[0;36mget_data\u001b[1;34m(data_dir)\u001b[0m\n\u001b[0;32m     20\u001b[0m             \u001b[38;5;28mprint\u001b[39m(e)\n\u001b[0;32m     21\u001b[0m \u001b[38;5;66;03m# convert list to numpy array\u001b[39;00m\n\u001b[1;32m---> 22\u001b[0m data \u001b[38;5;241m=\u001b[39m np\u001b[38;5;241m.\u001b[39marray(data)\n\u001b[0;32m     23\u001b[0m \u001b[38;5;66;03m# return images and labels separately\u001b[39;00m\n\u001b[0;32m     24\u001b[0m \u001b[38;5;28;01mreturn\u001b[39;00m data[:, \u001b[38;5;241m0\u001b[39m], data[:, \u001b[38;5;241m1\u001b[39m]\n",
      "\u001b[1;31mValueError\u001b[0m: setting an array element with a sequence. The requested array has an inhomogeneous shape after 2 dimensions. The detected shape was (5216, 2) + inhomogeneous part."
     ]
    }
   ],
   "source": [
    "train = get_data(\"chest_xray/chest_xray/train\")"
   ]
  },
  {
   "cell_type": "code",
   "execution_count": 6,
   "id": "eedc58ba-0267-4405-a468-df2dac69adbd",
   "metadata": {},
   "outputs": [
    {
     "ename": "ValueError",
     "evalue": "setting an array element with a sequence. The requested array has an inhomogeneous shape after 2 dimensions. The detected shape was (5216, 2) + inhomogeneous part.",
     "output_type": "error",
     "traceback": [
      "\u001b[1;31m---------------------------------------------------------------------------\u001b[0m",
      "\u001b[1;31mValueError\u001b[0m                                Traceback (most recent call last)",
      "Cell \u001b[1;32mIn[6], line 1\u001b[0m\n\u001b[1;32m----> 1\u001b[0m images, labels \u001b[38;5;241m=\u001b[39m get_data(\u001b[38;5;124m\"\u001b[39m\u001b[38;5;124mchest_xray/chest_xray/train\u001b[39m\u001b[38;5;124m\"\u001b[39m)\n",
      "Cell \u001b[1;32mIn[3], line 22\u001b[0m, in \u001b[0;36mget_data\u001b[1;34m(data_dir)\u001b[0m\n\u001b[0;32m     20\u001b[0m             \u001b[38;5;28mprint\u001b[39m(e)\n\u001b[0;32m     21\u001b[0m \u001b[38;5;66;03m# convert list to numpy array\u001b[39;00m\n\u001b[1;32m---> 22\u001b[0m data \u001b[38;5;241m=\u001b[39m np\u001b[38;5;241m.\u001b[39marray(data)\n\u001b[0;32m     23\u001b[0m \u001b[38;5;66;03m# return images and labels separately\u001b[39;00m\n\u001b[0;32m     24\u001b[0m \u001b[38;5;28;01mreturn\u001b[39;00m data[:, \u001b[38;5;241m0\u001b[39m], data[:, \u001b[38;5;241m1\u001b[39m]\n",
      "\u001b[1;31mValueError\u001b[0m: setting an array element with a sequence. The requested array has an inhomogeneous shape after 2 dimensions. The detected shape was (5216, 2) + inhomogeneous part."
     ]
    }
   ],
   "source": [
    "images, labels = get_data(\"chest_xray/chest_xray/train\")"
   ]
  },
  {
   "cell_type": "code",
   "execution_count": null,
   "id": "d67ace61-8c3d-4bdb-9b1c-1b48b5bc1ab0",
   "metadata": {},
   "outputs": [],
   "source": [
    "test = get_data(\"chest_xray/chest_xray/test\")\n",
    "val = get_data(\"chest_xray/chest_xray/val\")"
   ]
  },
  {
   "cell_type": "code",
   "execution_count": null,
   "id": "a998afce-331a-43f1-a006-cf8f2dbc98bc",
   "metadata": {},
   "outputs": [],
   "source": [
    "pneumonia = os.listdir(\"chest_xray/train/PNEUMONIA\")\n",
    "penomina_dir = \"chest_xray/train/PNEUMONIA\""
   ]
  },
  {
   "cell_type": "code",
   "execution_count": null,
   "id": "163951ab-64fd-4d50-a9fc-448edc88b652",
   "metadata": {},
   "outputs": [],
   "source": [
    "plt.figure(figsize=(20,10))\n",
    "\n",
    "for i in range(9):\n",
    "    plt.subplot(3,3, i+1)\n",
    "    img = plt.imread(os.path.join(penomina_dir, pneumonia[i]))\n",
    "    plt.imshow(img, cmap='gray')\n",
    "    plt.axis(\"off\")\n",
    "    plt.title(\"Pneumonia X-ray\")\n",
    "plt.tight_layout()"
   ]
  },
  {
   "cell_type": "code",
   "execution_count": null,
   "id": "ac26e495-9022-429d-90f8-ed02097eb1e8",
   "metadata": {},
   "outputs": [],
   "source": [
    "normal = os.listdir(\"chest_xray/train/NORMAL\")\n",
    "normal_dir = \"chest_xray/train/NORMAL\""
   ]
  },
  {
   "cell_type": "code",
   "execution_count": null,
   "id": "5dd25a6b-5b1c-4655-a859-1c1f2259ea91",
   "metadata": {},
   "outputs": [],
   "source": [
    "plt.figure(figsize=(20,10))\n",
    "\n",
    "for i in range(9):\n",
    "    plt.subplot(3,3, i+1)\n",
    "    img = plt.imread(os.path.join(normal_dir, normal[i]))\n",
    "    plt.imshow(img, cmap='gray')\n",
    "    plt.axis(\"off\")\n",
    "    plt.title(\"Normal X-ray\")\n",
    "plt.tight_layout()"
   ]
  },
  {
   "cell_type": "code",
   "execution_count": null,
   "id": "fca4fe3c-0c79-41f8-8106-154fedd04ef8",
   "metadata": {},
   "outputs": [],
   "source": [
    "listx = []\n",
    "for i in train:\n",
    "    if(i[1] == 0):\n",
    "        listx.append(\"Pneumonia\")\n",
    "    else:\n",
    "        listx.append(\"Normal\")\n",
    "sns.countplot(listx)"
   ]
  },
  {
   "cell_type": "code",
   "execution_count": null,
   "id": "4e395427-8f9f-47bb-bc25-3f11d9480531",
   "metadata": {},
   "outputs": [],
   "source": [
    "import tensorflow as tf\n",
    "from tensorflow.keras.preprocessing.image import ImageDataGenerator\n",
    "from tensorflow.keras.models import Model\n",
    "from tensorflow.keras.models import load_model\n",
    "from tensorflow.keras.layers import Input, Dense, Flatten, Conv2D,Dropout\n",
    "from tensorflow.keras.applications.vgg19 import VGG19\n",
    "from tensorflow.keras.optimizers import SGD, RMSprop, Adam\n",
    "from tensorflow.keras.callbacks import ModelCheckpoint, EarlyStopping, ReduceLROnPlateau"
   ]
  },
  {
   "cell_type": "code",
   "execution_count": null,
   "id": "4299ce9e-e553-4ed1-ae3b-d1b2b7449bd7",
   "metadata": {},
   "outputs": [],
   "source": [
    "train_datagen = ImageDataGenerator(rescale = 1. / 255, \n",
    "                  horizontal_flip=0.4,\n",
    "                  vertical_flip=0.4,\n",
    "                  rotation_range=40,\n",
    "                  shear_range=0.2,\n",
    "                  width_shift_range=0.4,\n",
    "                  height_shift_range=0.4,\n",
    "                  fill_mode=\"nearest\")\n",
    "valid_datagen = ImageDataGenerator(rescale = 1./255)\n",
    "test_datagen = ImageDataGenerator(rescale = 1./255)"
   ]
  },
  {
   "cell_type": "code",
   "execution_count": null,
   "id": "0c8ea5e2-ce33-49ce-a1f5-566adf8cbcff",
   "metadata": {},
   "outputs": [],
   "source": [
    "train_generator = train_datagen.flow_from_directory(\"chest_xray/chest_xray/train\",\n",
    "                                 batch_size = 32,\n",
    "                                 target_size=(128,128),\n",
    "                                 class_mode = 'categorical',\n",
    "                                 shuffle=True,\n",
    "                                 seed = 42,\n",
    "                                 color_mode = 'rgb')\n",
    "valid_generator = valid_datagen.flow_from_directory(\"chest_xray/chest_xray/val\",\n",
    "                                 batch_size = 32,\n",
    "                                 target_size=(128,128),\n",
    "                                 class_mode = 'categorical',\n",
    "                                 shuffle=True,\n",
    "                                 seed = 42,\n",
    "                                 color_mode = 'rgb')"
   ]
  },
  {
   "cell_type": "code",
   "execution_count": null,
   "id": "9eee59f4-3133-421d-9020-3d59d16b0438",
   "metadata": {},
   "outputs": [],
   "source": [
    "class_labels = train_generator.class_indices"
   ]
  },
  {
   "cell_type": "code",
   "execution_count": null,
   "id": "b5997e53-1f1a-4d44-a97b-2b31a2622b59",
   "metadata": {},
   "outputs": [],
   "source": [
    "class_labels"
   ]
  },
  {
   "cell_type": "code",
   "execution_count": null,
   "id": "181e9b64-bbb2-4777-9d50-3348db1f29e5",
   "metadata": {},
   "outputs": [],
   "source": [
    "class_name = {value:key for (key, value) in class_labels.items()}"
   ]
  },
  {
   "cell_type": "code",
   "execution_count": null,
   "id": "1c4ca4b9-6946-49f5-a680-af0b663384e9",
   "metadata": {},
   "outputs": [],
   "source": [
    "class_name"
   ]
  },
  {
   "cell_type": "code",
   "execution_count": null,
   "id": "ac0fa342-e5a7-4224-885d-3b05f8958ee5",
   "metadata": {},
   "outputs": [],
   "source": [
    "base_model = VGG19(input_shape = (128,128,3),\n",
    "                     include_top = False,\n",
    "                     weights = 'imagenet')\n",
    "for layer in base_model.layers:\n",
    "    layer.trainable = False\n",
    "\n",
    "x = base_model.output\n",
    "flat = Flatten()(x)\n",
    "\n",
    "\n",
    "class_1 = Dense(4608, activation = 'relu')(flat)\n",
    "dropout = Dropout(0.2)(class_1)\n",
    "class_2 = Dense(1152, activation = 'relu')(dropout)\n",
    "output = Dense(2, activation = 'softmax')(class_2)\n",
    "\n",
    "model_01 = Model(base_model.inputs, output)\n",
    "model_01.summary()"
   ]
  },
  {
   "cell_type": "code",
   "execution_count": null,
   "id": "9202d814-1af2-44bb-a49b-4fb8f3642406",
   "metadata": {},
   "outputs": [],
   "source": [
    "filepath = \"model.h5\"\n",
    "es = EarlyStopping(monitor=\"val_loss\", verbose=1, mode=\"min\", patience=4)\n",
    "cp=ModelCheckpoint(filepath, monitor=\"val_loss\", save_best_only=True, save_weights_only=False,mode=\"auto\", save_freq=\"epoch\")\n",
    "lrr = ReduceLROnPlateau(monitor=\"val_accuracy\", patience=3, verbose=1, factor=0.5, min_lr=0.0001)\n",
    "\n",
    "sgd = SGD(learning_rate=0.0001, decay = 1e-6, momentum=0, nesterov = True)\n",
    "\n",
    "model_01.compile(loss=\"categorical_crossentropy\", optimizer=sgd, metrics=['accuracy'])"
   ]
  },
  {
   "cell_type": "code",
   "execution_count": null,
   "id": "b3c6e927-44d4-413b-b970-5ae4f66216af",
   "metadata": {},
   "outputs": [],
   "source": [
    "history_01 = model_01.fit(train_generator, \n",
    "            steps_per_epoch=50,\n",
    "            epochs=1, \n",
    "            callbacks=[es, cp, lrr],\n",
    "            validation_data=valid_generator)"
   ]
  },
  {
   "cell_type": "code",
   "execution_count": null,
   "id": "1dd675d8-4642-4c61-ad69-83c12f638a78",
   "metadata": {},
   "outputs": [],
   "source": [
    "if not os.path.isdir('model_weights/'):\n",
    "    os.mkdir(\"model_weights/\")\n",
    "model_01.save(filepath = \"model_weights/vgg19_model_01.h5\", overwrite=True)"
   ]
  },
  {
   "cell_type": "code",
   "execution_count": null,
   "id": "a63c00ff-5a28-4862-8768-5c0b04ab2bfe",
   "metadata": {},
   "outputs": [],
   "source": [
    "test_generator = test_datagen.flow_from_directory(\"chest_xray/chest_xray/test\",\n",
    "                                 batch_size = 32,\n",
    "                                 target_size=(128,128),\n",
    "                                 class_mode = 'categorical',\n",
    "                                 shuffle=True,\n",
    "                                 seed = 42,\n",
    "                                 color_mode = 'rgb')"
   ]
  },
  {
   "cell_type": "code",
   "execution_count": null,
   "id": "320297cc-7873-4e2e-9807-b1b0ceef211c",
   "metadata": {},
   "outputs": [],
   "source": [
    "model_01.load_weights(\"model_weights/vgg19_model_01.h5\")\n",
    "\n",
    "vgg_val_eval_01 = model_01.evaluate(valid_generator)\n",
    "vgg_test_eval_01 = model_01.evaluate(test_generator)"
   ]
  },
  {
   "cell_type": "code",
   "execution_count": null,
   "id": "b78ce95d-1a0a-4ce5-86e8-c5b62d6b4749",
   "metadata": {},
   "outputs": [],
   "source": [
    "print(f\"Validation Loss: {vgg_val_eval_01[0]}\")\n",
    "print(f\"Validation Accuarcy: {vgg_val_eval_01[1]}\")\n",
    "print(f\"Test Loss: {vgg_test_eval_01[0]}\")\n",
    "print(f\"Test Accuarcy: {vgg_test_eval_01[1]}\")"
   ]
  },
  {
   "cell_type": "code",
   "execution_count": null,
   "id": "e2965092-1273-482a-9ea1-ba49f9faca2d",
   "metadata": {},
   "outputs": [],
   "source": [
    "base_model = VGG19(include_top=False, input_shape=(128,128,3))\n",
    "base_model_layer_names = [layer.name for layer in base_model.layers]\n",
    "\n",
    "x = base_model.output\n",
    "flat = Flatten()(x)\n",
    "\n",
    "\n",
    "class_1 = Dense(4608, activation = 'relu')(flat)\n",
    "dropout = Dropout(0.2)(class_1)\n",
    "class_2 = Dense(1152, activation = 'relu')(dropout)\n",
    "output = Dense(2, activation = 'softmax')(class_2)\n",
    "\n",
    "model_02 = Model(base_model.inputs, output)\n",
    "model_02.load_weights(\"model_weights/vgg19_model_01.h5\")\n",
    "\n",
    "set_trainable = False\n",
    "for layer in base_model.layers:\n",
    "    if layer.name in [ 'block5_conv3','block5_conv4']:\n",
    "        set_trainable=True\n",
    "    if set_trainable:\n",
    "        set_trainable=True\n",
    "    else:\n",
    "        set_trainable=False\n",
    "print(model_02.summary())"
   ]
  },
  {
   "cell_type": "code",
   "execution_count": null,
   "id": "bbb4f5e1-05a3-495d-b63e-777886b18fa9",
   "metadata": {},
   "outputs": [],
   "source": [
    "base_model_layer_names\n"
   ]
  },
  {
   "cell_type": "code",
   "execution_count": null,
   "id": "fce4fd90-c6d8-4f10-b914-64da10e60ca7",
   "metadata": {},
   "outputs": [],
   "source": [
    "sgd = SGD(learning_rate=0.0001, decay = 1e-6, momentum=0, nesterov = True)\n",
    "\n",
    "model_02.compile(loss=\"categorical_crossentropy\", optimizer=sgd, metrics=['accuracy'])"
   ]
  },
  {
   "cell_type": "code",
   "execution_count": null,
   "id": "cef72736-0c43-487b-9fad-cea4bcb29b71",
   "metadata": {},
   "outputs": [],
   "source": [
    "history_02 = model_02.fit(train_generator, \n",
    "            steps_per_epoch=10,\n",
    "            epochs=1, \n",
    "            callbacks=[es, cp, lrr],\n",
    "            validation_data=valid_generator)"
   ]
  },
  {
   "cell_type": "code",
   "execution_count": null,
   "id": "130ccb1f-eb3b-4b13-8c6f-bdf371d5ea3a",
   "metadata": {},
   "outputs": [],
   "source": []
  },
  {
   "cell_type": "code",
   "execution_count": null,
   "id": "6aec234c-6ae5-4d56-9222-335e1ce5df5d",
   "metadata": {},
   "outputs": [],
   "source": []
  },
  {
   "cell_type": "code",
   "execution_count": null,
   "id": "4006d651-2fbc-4d36-b4c2-9431b724e21f",
   "metadata": {},
   "outputs": [],
   "source": []
  },
  {
   "cell_type": "code",
   "execution_count": null,
   "id": "aaaa4a08-2dec-4663-925c-2de9a784238b",
   "metadata": {},
   "outputs": [],
   "source": []
  },
  {
   "cell_type": "code",
   "execution_count": null,
   "id": "07fa97a7-66b9-4168-b25b-2acf85e9c8fa",
   "metadata": {},
   "outputs": [],
   "source": []
  },
  {
   "cell_type": "code",
   "execution_count": null,
   "id": "32b83fd4-df9f-4dd5-9275-0037b2c1dbb1",
   "metadata": {},
   "outputs": [],
   "source": []
  },
  {
   "cell_type": "code",
   "execution_count": null,
   "id": "31993f19-2687-42bf-baed-cf0360d636a6",
   "metadata": {},
   "outputs": [],
   "source": []
  }
 ],
 "metadata": {
  "kernelspec": {
   "display_name": "Python 3 (ipykernel)",
   "language": "python",
   "name": "python3"
  },
  "language_info": {
   "codemirror_mode": {
    "name": "ipython",
    "version": 3
   },
   "file_extension": ".py",
   "mimetype": "text/x-python",
   "name": "python",
   "nbconvert_exporter": "python",
   "pygments_lexer": "ipython3",
   "version": "3.11.7"
  }
 },
 "nbformat": 4,
 "nbformat_minor": 5
}
